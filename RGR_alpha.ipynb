{
  "nbformat": 4,
  "nbformat_minor": 0,
  "metadata": {
    "colab": {
      "name": "Untitled6.ipynb",
      "provenance": [],
      "collapsed_sections": []
    },
    "kernelspec": {
      "name": "python3",
      "display_name": "Python 3"
    },
    "accelerator": "GPU"
  },
  "cells": [
    {
      "cell_type": "code",
      "metadata": {
        "colab": {
          "base_uri": "https://localhost:8080/"
        },
        "id": "Sat-LhK-BLHT",
        "outputId": "51b040fa-278f-4d3b-9b4e-39bc6171492b"
      },
      "source": [
        "!pip install kaggle"
      ],
      "execution_count": 23,
      "outputs": [
        {
          "output_type": "stream",
          "text": [
            "Requirement already satisfied: kaggle in /usr/local/lib/python3.6/dist-packages (1.5.9)\n",
            "Requirement already satisfied: requests in /usr/local/lib/python3.6/dist-packages (from kaggle) (2.23.0)\n",
            "Requirement already satisfied: urllib3 in /usr/local/lib/python3.6/dist-packages (from kaggle) (1.24.3)\n",
            "Requirement already satisfied: certifi in /usr/local/lib/python3.6/dist-packages (from kaggle) (2020.11.8)\n",
            "Requirement already satisfied: python-dateutil in /usr/local/lib/python3.6/dist-packages (from kaggle) (2.8.1)\n",
            "Requirement already satisfied: python-slugify in /usr/local/lib/python3.6/dist-packages (from kaggle) (4.0.1)\n",
            "Requirement already satisfied: tqdm in /usr/local/lib/python3.6/dist-packages (from kaggle) (4.41.1)\n",
            "Requirement already satisfied: slugify in /usr/local/lib/python3.6/dist-packages (from kaggle) (0.0.1)\n",
            "Requirement already satisfied: six>=1.10 in /usr/local/lib/python3.6/dist-packages (from kaggle) (1.15.0)\n",
            "Requirement already satisfied: chardet<4,>=3.0.2 in /usr/local/lib/python3.6/dist-packages (from requests->kaggle) (3.0.4)\n",
            "Requirement already satisfied: idna<3,>=2.5 in /usr/local/lib/python3.6/dist-packages (from requests->kaggle) (2.10)\n",
            "Requirement already satisfied: text-unidecode>=1.3 in /usr/local/lib/python3.6/dist-packages (from python-slugify->kaggle) (1.3)\n"
          ],
          "name": "stdout"
        }
      ]
    },
    {
      "cell_type": "code",
      "metadata": {
        "colab": {
          "resources": {
            "http://localhost:8080/nbextensions/google.colab/files.js": {
              "data": "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",
              "ok": true,
              "headers": [
                [
                  "content-type",
                  "application/javascript"
                ]
              ],
              "status": 200,
              "status_text": ""
            }
          },
          "base_uri": "https://localhost:8080/",
          "height": 89
        },
        "id": "MecRJZGMDp7H",
        "outputId": "dd3220bc-d531-4589-fa4e-4d78e37312e3"
      },
      "source": [
        "from google.colab import files\n",
        "files.upload()"
      ],
      "execution_count": 24,
      "outputs": [
        {
          "output_type": "display_data",
          "data": {
            "text/html": [
              "\n",
              "     <input type=\"file\" id=\"files-64de0550-9e47-4c91-9835-31fa5866e098\" name=\"files[]\" multiple disabled\n",
              "        style=\"border:none\" />\n",
              "     <output id=\"result-64de0550-9e47-4c91-9835-31fa5866e098\">\n",
              "      Upload widget is only available when the cell has been executed in the\n",
              "      current browser session. Please rerun this cell to enable.\n",
              "      </output>\n",
              "      <script src=\"/nbextensions/google.colab/files.js\"></script> "
            ],
            "text/plain": [
              "<IPython.core.display.HTML object>"
            ]
          },
          "metadata": {
            "tags": []
          }
        },
        {
          "output_type": "stream",
          "text": [
            "Saving kaggle.json to kaggle (1).json\n"
          ],
          "name": "stdout"
        },
        {
          "output_type": "execute_result",
          "data": {
            "text/plain": [
              "{'kaggle.json': b'{\"username\":\"vasiliyshvec\",\"key\":\"3824be59b2207f1a5ecf35bd8b5bae58\"}'}"
            ]
          },
          "metadata": {
            "tags": []
          },
          "execution_count": 24
        }
      ]
    },
    {
      "cell_type": "code",
      "metadata": {
        "colab": {
          "base_uri": "https://localhost:8080/"
        },
        "id": "52km6yDUCrYJ",
        "outputId": "6d025c71-d2ca-4553-c46b-ff3d26c825c6"
      },
      "source": [
        "!ls -lha kaggle.json\n",
        "!pip install -q kaggle\n",
        "!mkdir -p ~/.kaggle\n",
        "!cp kaggle.json ~/.kaggle/\n",
        "!chmod 600 ~/.kaggle/kaggle.json\n",
        "!kaggle datasets download -d landlord/handwriting-recognition"
      ],
      "execution_count": 25,
      "outputs": [
        {
          "output_type": "stream",
          "text": [
            "-rw-r--r-- 1 root root 68 Dec  7 08:58 kaggle.json\n",
            "handwriting-recognition.zip: Skipping, found more recently modified local copy (use --force to force download)\n"
          ],
          "name": "stdout"
        }
      ]
    },
    {
      "cell_type": "code",
      "metadata": {
        "colab": {
          "base_uri": "https://localhost:8080/"
        },
        "id": "JqjzzjtpD7jP",
        "outputId": "3314181e-162b-4262-f516-8d559d9ff1e0"
      },
      "source": [
        "!unzip \\*.zip"
      ],
      "execution_count": 26,
      "outputs": [
        {
          "output_type": "stream",
          "text": [
            "Archive:  handwriting-recognition.zip\n",
            "replace test_v2/test/TEST_0001.jpg? [y]es, [n]o, [A]ll, [N]one, [r]ename: "
          ],
          "name": "stdout"
        }
      ]
    },
    {
      "cell_type": "code",
      "metadata": {
        "colab": {
          "base_uri": "https://localhost:8080/"
        },
        "id": "pF2BZUeDD2Yq",
        "outputId": "c44aa37a-d4e8-4fe2-a1f8-505d8b6720c2"
      },
      "source": [
        "!ls -d $PWD/*"
      ],
      "execution_count": 27,
      "outputs": [
        {
          "output_type": "stream",
          "text": [
            " /content/handwriting-recognition.zip   /content/train_v2\n",
            "'/content/kaggle (1).json'\t        /content/validation_v2\n",
            " /content/kaggle.json\t\t        /content/written_name_test_v2.csv\n",
            " /content/sample_data\t\t        /content/written_name_train_v2.csv\n",
            " /content/test_v2\t\t        /content/written_name_validation_v2.csv\n"
          ],
          "name": "stdout"
        }
      ]
    },
    {
      "cell_type": "code",
      "metadata": {
        "id": "5G7JYyKKCc1n"
      },
      "source": [
        "import os\n",
        "import cv2\n",
        "import random\n",
        "import numpy as np\n",
        "import pandas as pd\n",
        "import matplotlib.pyplot as plt\n",
        "\n",
        "import tensorflow as tf\n",
        "from keras import backend as K\n",
        "from keras.models import Model\n",
        "from keras.layers import Input, Conv2D, MaxPooling2D, Reshape, Bidirectional, LSTM, Dense, Lambda, Activation, BatchNormalization, Dropout\n",
        "from keras.optimizers import Adam"
      ],
      "execution_count": 28,
      "outputs": []
    },
    {
      "cell_type": "code",
      "metadata": {
        "id": "vvLFTXIpFgD_"
      },
      "source": [
        "train = pd.read_csv('/content/written_name_train_v2.csv')\n",
        "valid = pd.read_csv('/content/written_name_validation_v2.csv')"
      ],
      "execution_count": 64,
      "outputs": []
    },
    {
      "cell_type": "code",
      "metadata": {
        "colab": {
          "base_uri": "https://localhost:8080/",
          "height": 186
        },
        "id": "lgrxTSh7Fm9R",
        "outputId": "5d84fbb8-a7b1-4048-ee7f-3ad24d08b998"
      },
      "source": [
        "plt.figure(figsize=(15, 10))\n",
        "\n",
        "for i in range(6):\n",
        "    ax = plt.subplot(2, 3, i+1)\n",
        "    img_dir = '/content/train_v2/train/'+train.loc[i, 'FILENAME']\n",
        "    image = cv2.imread(img_dir, cv2.IMREAD_GRAYSCALE)\n",
        "    plt.imshow(image, cmap = 'gray')\n",
        "    plt.title(train.loc[i, 'IDENTITY'], fontsize=12)\n",
        "    plt.axis('off')\n",
        "\n",
        "plt.subplots_adjust(wspace=0.2, hspace=-0.8)"
      ],
      "execution_count": 65,
      "outputs": [
        {
          "output_type": "display_data",
          "data": {
            "image/png": "[encoded data removed]",
            "text/plain": [
              "<Figure size 1080x720 with 6 Axes>"
            ]
          },
          "metadata": {
            "tags": [],
            "needs_background": "light"
          }
        }
      ]
    },
    {
      "cell_type": "code",
      "metadata": {
        "colab": {
          "base_uri": "https://localhost:8080/"
        },
        "id": "ItGSGn4jFtxA",
        "outputId": "c18b15c5-1740-41e3-ac0d-f03026f2f1ac"
      },
      "source": [
        "print(\"Number of NaNs in train set      : \", train['IDENTITY'].isnull().sum())\n",
        "print(\"Number of NaNs in validation set : \", valid['IDENTITY'].isnull().sum())"
      ],
      "execution_count": 66,
      "outputs": [
        {
          "output_type": "stream",
          "text": [
            "Number of NaNs in train set      :  565\n",
            "Number of NaNs in validation set :  78\n"
          ],
          "name": "stdout"
        }
      ]
    },
    {
      "cell_type": "code",
      "metadata": {
        "id": "fzobhCmzNjEY"
      },
      "source": [
        "train.dropna(axis=0, inplace=True)\n",
        "valid.dropna(axis=0, inplace=True)"
      ],
      "execution_count": 67,
      "outputs": []
    },
    {
      "cell_type": "code",
      "metadata": {
        "colab": {
          "base_uri": "https://localhost:8080/",
          "height": 166
        },
        "id": "SqWOT04KNkm9",
        "outputId": "d6e87823-70a2-4154-c070-508a3785891f"
      },
      "source": [
        "unreadable = train[train['IDENTITY'] == 'UNREADABLE']\n",
        "unreadable.reset_index(inplace = True, drop=True)\n",
        "\n",
        "plt.figure(figsize=(15, 10))\n",
        "\n",
        "for i in range(6):\n",
        "    ax = plt.subplot(2, 3, i+1)\n",
        "    img_dir = '/content/train_v2/train/'+unreadable.loc[i, 'FILENAME']\n",
        "    image = cv2.imread(img_dir, cv2.IMREAD_GRAYSCALE)\n",
        "    plt.imshow(image, cmap = 'gray')\n",
        "    plt.title(unreadable.loc[i, 'IDENTITY'], fontsize=12)\n",
        "    plt.axis('off')\n",
        "\n",
        "plt.subplots_adjust(wspace=0.2, hspace=-0.8)"
      ],
      "execution_count": 68,
      "outputs": [
        {
          "output_type": "display_data",
          "data": {
            "image/png": "[encoded data removed]",
            "text/plain": [
              "<Figure size 1080x720 with 6 Axes>"
            ]
          },
          "metadata": {
            "tags": [],
            "needs_background": "light"
          }
        }
      ]
    },
    {
      "cell_type": "code",
      "metadata": {
        "id": "Vw7T1ljlNnfq"
      },
      "source": [
        "train = train[train['IDENTITY'] != 'UNREADABLE']\n",
        "valid = valid[valid['IDENTITY'] != 'UNREADABLE']"
      ],
      "execution_count": 69,
      "outputs": []
    },
    {
      "cell_type": "code",
      "metadata": {
        "id": "L3GD6hTeNsvk"
      },
      "source": [
        "train['IDENTITY'] = train['IDENTITY'].str.upper()\n",
        "valid['IDENTITY'] = valid['IDENTITY'].str.upper()"
      ],
      "execution_count": 70,
      "outputs": []
    },
    {
      "cell_type": "code",
      "metadata": {
        "id": "aF5L1VyeNuTC"
      },
      "source": [
        "train.reset_index(inplace = True, drop=True) \n",
        "valid.reset_index(inplace = True, drop=True)"
      ],
      "execution_count": 71,
      "outputs": []
    },
    {
      "cell_type": "code",
      "metadata": {
        "id": "E7mVvwKdNv9j"
      },
      "source": [
        "def preprocess(img):\n",
        "    (h, w) = img.shape\n",
        "    \n",
        "    final_img = np.ones([64, 256])*255 # blank white image\n",
        "    \n",
        "    # crop\n",
        "    if w > 256:\n",
        "        img = img[:, :256]\n",
        "        \n",
        "    if h > 64:\n",
        "        img = img[:64, :]\n",
        "    \n",
        "    \n",
        "    final_img[:h, :w] = img\n",
        "    return cv2.rotate(final_img, cv2.ROTATE_90_CLOCKWISE)"
      ],
      "execution_count": 72,
      "outputs": []
    },
    {
      "cell_type": "code",
      "metadata": {
        "id": "9UfKtNTGN04q"
      },
      "source": [
        "train_size = 30000\n",
        "valid_size= 3000"
      ],
      "execution_count": 73,
      "outputs": []
    },
    {
      "cell_type": "code",
      "metadata": {
        "id": "DHnq8Oe9N2fX"
      },
      "source": [
        "train_x = []\n",
        "\n",
        "for i in range(train_size):\n",
        "    img_dir = '/content/train_v2/train/'+train.loc[i, 'FILENAME']\n",
        "    image = cv2.imread(img_dir, cv2.IMREAD_GRAYSCALE)\n",
        "    image = preprocess(image)\n",
        "    image = image/255.\n",
        "    train_x.append(image)"
      ],
      "execution_count": 74,
      "outputs": []
    },
    {
      "cell_type": "code",
      "metadata": {
        "id": "2Fs0_AMnOHnH"
      },
      "source": [
        "valid_x = []\n",
        "\n",
        "for i in range(valid_size):\n",
        "    img_dir = '/content/validation_v2/validation/'+valid.loc[i, 'FILENAME']\n",
        "    image = cv2.imread(img_dir, cv2.IMREAD_GRAYSCALE)\n",
        "    image = preprocess(image)\n",
        "    image = image/255.\n",
        "    valid_x.append(image)"
      ],
      "execution_count": 75,
      "outputs": []
    },
    {
      "cell_type": "code",
      "metadata": {
        "id": "eQVv4MaUN38R"
      },
      "source": [
        "train_x = np.array(train_x).reshape(-1, 256, 64, 1)\n",
        "valid_x = np.array(valid_x).reshape(-1, 256, 64, 1)"
      ],
      "execution_count": 76,
      "outputs": []
    },
    {
      "cell_type": "code",
      "metadata": {
        "id": "6LIXPHh5OBY6"
      },
      "source": [
        "alphabets = u\"ABCDEFGHIJKLMNOPQRSTUVWXYZ-' \"\n",
        "max_str_len = 24 # max length of input labels\n",
        "num_of_characters = len(alphabets) + 1 # +1 for ctc pseudo blank\n",
        "num_of_timestamps = 64 # max length of predicted labels\n",
        "\n",
        "\n",
        "def label_to_num(label):\n",
        "    label_num = []\n",
        "    for ch in label:\n",
        "        label_num.append(alphabets.find(ch))\n",
        "        \n",
        "    return np.array(label_num)\n",
        "\n",
        "def num_to_label(num):\n",
        "    ret = \"\"\n",
        "    for ch in num:\n",
        "        if ch == -1:  # CTC Blank\n",
        "            break\n",
        "        else:\n",
        "            ret+=alphabets[ch]\n",
        "    return ret"
      ],
      "execution_count": 77,
      "outputs": []
    },
    {
      "cell_type": "code",
      "metadata": {
        "id": "wFziYk91Oba7",
        "colab": {
          "base_uri": "https://localhost:8080/"
        },
        "outputId": "3badd03b-fdea-480a-b668-800d2a195f1b"
      },
      "source": [
        "name = 'JEBASTIN'\n",
        "print(name, '\\n',label_to_num(name))"
      ],
      "execution_count": 78,
      "outputs": [
        {
          "output_type": "stream",
          "text": [
            "JEBASTIN \n",
            " [ 9  4  1  0 18 19  8 13]\n"
          ],
          "name": "stdout"
        }
      ]
    },
    {
      "cell_type": "code",
      "metadata": {
        "id": "N0K6NtpFOdny"
      },
      "source": [
        "train_y = np.ones([train_size, max_str_len]) * -1\n",
        "train_label_len = np.zeros([train_size, 1])\n",
        "train_input_len = np.ones([train_size, 1]) * (num_of_timestamps-2)\n",
        "train_output = np.zeros([train_size])\n",
        "\n",
        "for i in range(train_size):\n",
        "    train_label_len[i] = len(train.loc[i, 'IDENTITY'])\n",
        "    train_y[i, 0:len(train.loc[i, 'IDENTITY'])]= label_to_num(train.loc[i, 'IDENTITY'])    "
      ],
      "execution_count": 79,
      "outputs": []
    },
    {
      "cell_type": "code",
      "metadata": {
        "id": "lgaR0G5lOfZD"
      },
      "source": [
        "valid_y = np.ones([valid_size, max_str_len]) * -1\n",
        "valid_label_len = np.zeros([valid_size, 1])\n",
        "valid_input_len = np.ones([valid_size, 1]) * (num_of_timestamps-2)\n",
        "valid_output = np.zeros([valid_size])\n",
        "\n",
        "for i in range(valid_size):\n",
        "    valid_label_len[i] = len(valid.loc[i, 'IDENTITY'])\n",
        "    valid_y[i, 0:len(valid.loc[i, 'IDENTITY'])]= label_to_num(valid.loc[i, 'IDENTITY'])   "
      ],
      "execution_count": 80,
      "outputs": []
    },
    {
      "cell_type": "code",
      "metadata": {
        "id": "XHdsebGvOg-6",
        "colab": {
          "base_uri": "https://localhost:8080/"
        },
        "outputId": "9879a020-8310-44e4-f321-54d66c79c59d"
      },
      "source": [
        "print('True label : ',train.loc[100, 'IDENTITY'] , '\\ntrain_y : ',train_y[100],'\\ntrain_label_len : ',train_label_len[100], \n",
        "      '\\ntrain_input_len : ', train_input_len[100])"
      ],
      "execution_count": 81,
      "outputs": [
        {
          "output_type": "stream",
          "text": [
            "True label :  NOUR \n",
            "train_y :  [13. 14. 20. 17. -1. -1. -1. -1. -1. -1. -1. -1. -1. -1. -1. -1. -1. -1.\n",
            " -1. -1. -1. -1. -1. -1.] \n",
            "train_label_len :  [4.] \n",
            "train_input_len :  [62.]\n"
          ],
          "name": "stdout"
        }
      ]
    },
    {
      "cell_type": "code",
      "metadata": {
        "id": "t42ey-JVOicC",
        "colab": {
          "base_uri": "https://localhost:8080/"
        },
        "outputId": "bc1db4e4-e4fd-452d-e189-d5d336430d42"
      },
      "source": [
        "input_data = Input(shape=(256, 64, 1), name='input')\n",
        "\n",
        "inner = Conv2D(32, (3, 3), padding='same', name='conv1', kernel_initializer='he_normal')(input_data)  \n",
        "inner = BatchNormalization()(inner)\n",
        "inner = Activation('relu')(inner)\n",
        "inner = MaxPooling2D(pool_size=(2, 2), name='max1')(inner)\n",
        "\n",
        "inner = Conv2D(64, (3, 3), padding='same', name='conv2', kernel_initializer='he_normal')(inner)\n",
        "inner = BatchNormalization()(inner)\n",
        "inner = Activation('relu')(inner)\n",
        "inner = MaxPooling2D(pool_size=(2, 2), name='max2')(inner)\n",
        "inner = Dropout(0.3)(inner)\n",
        "\n",
        "inner = Conv2D(128, (3, 3), padding='same', name='conv3', kernel_initializer='he_normal')(inner)\n",
        "inner = BatchNormalization()(inner)\n",
        "inner = Activation('relu')(inner)\n",
        "inner = MaxPooling2D(pool_size=(1, 2), name='max3')(inner)\n",
        "inner = Dropout(0.3)(inner)\n",
        "\n",
        "# CNN to RNN\n",
        "inner = Reshape(target_shape=((64, 1024)), name='reshape')(inner)\n",
        "inner = Dense(64, activation='relu', kernel_initializer='he_normal', name='dense1')(inner)\n",
        "\n",
        "## RNN\n",
        "inner = Bidirectional(LSTM(256, return_sequences=True), name = 'lstm1')(inner)\n",
        "inner = Bidirectional(LSTM(256, return_sequences=True), name = 'lstm2')(inner)\n",
        "\n",
        "## OUTPUT\n",
        "inner = Dense(num_of_characters, kernel_initializer='he_normal',name='dense2')(inner)\n",
        "y_pred = Activation('softmax', name='softmax')(inner)\n",
        "\n",
        "model = Model(inputs=input_data, outputs=y_pred)\n",
        "model.summary()"
      ],
      "execution_count": 82,
      "outputs": [
        {
          "output_type": "stream",
          "text": [
            "Model: \"functional_5\"\n",
            "_________________________________________________________________\n",
            "Layer (type)                 Output Shape              Param #   \n",
            "=================================================================\n",
            "input (InputLayer)           [(None, 256, 64, 1)]      0         \n",
            "_________________________________________________________________\n",
            "conv1 (Conv2D)               (None, 256, 64, 32)       320       \n",
            "_________________________________________________________________\n",
            "batch_normalization_3 (Batch (None, 256, 64, 32)       128       \n",
            "_________________________________________________________________\n",
            "activation_3 (Activation)    (None, 256, 64, 32)       0         \n",
            "_________________________________________________________________\n",
            "max1 (MaxPooling2D)          (None, 128, 32, 32)       0         \n",
            "_________________________________________________________________\n",
            "conv2 (Conv2D)               (None, 128, 32, 64)       18496     \n",
            "_________________________________________________________________\n",
            "batch_normalization_4 (Batch (None, 128, 32, 64)       256       \n",
            "_________________________________________________________________\n",
            "activation_4 (Activation)    (None, 128, 32, 64)       0         \n",
            "_________________________________________________________________\n",
            "max2 (MaxPooling2D)          (None, 64, 16, 64)        0         \n",
            "_________________________________________________________________\n",
            "dropout_2 (Dropout)          (None, 64, 16, 64)        0         \n",
            "_________________________________________________________________\n",
            "conv3 (Conv2D)               (None, 64, 16, 128)       73856     \n",
            "_________________________________________________________________\n",
            "batch_normalization_5 (Batch (None, 64, 16, 128)       512       \n",
            "_________________________________________________________________\n",
            "activation_5 (Activation)    (None, 64, 16, 128)       0         \n",
            "_________________________________________________________________\n",
            "max3 (MaxPooling2D)          (None, 64, 8, 128)        0         \n",
            "_________________________________________________________________\n",
            "dropout_3 (Dropout)          (None, 64, 8, 128)        0         \n",
            "_________________________________________________________________\n",
            "reshape (Reshape)            (None, 64, 1024)          0         \n",
            "_________________________________________________________________\n",
            "dense1 (Dense)               (None, 64, 64)            65600     \n",
            "_________________________________________________________________\n",
            "lstm1 (Bidirectional)        (None, 64, 512)           657408    \n",
            "_________________________________________________________________\n",
            "lstm2 (Bidirectional)        (None, 64, 512)           1574912   \n",
            "_________________________________________________________________\n",
            "dense2 (Dense)               (None, 64, 30)            15390     \n",
            "_________________________________________________________________\n",
            "softmax (Activation)         (None, 64, 30)            0         \n",
            "=================================================================\n",
            "Total params: 2,406,878\n",
            "Trainable params: 2,406,430\n",
            "Non-trainable params: 448\n",
            "_________________________________________________________________\n"
          ],
          "name": "stdout"
        }
      ]
    },
    {
      "cell_type": "code",
      "metadata": {
        "id": "ct7D2QI5OlTJ"
      },
      "source": [
        "def ctc_lambda_func(args):\n",
        "    y_pred, labels, input_length, label_length = args\n",
        "    # the 2 is critical here since the first couple outputs of the RNN\n",
        "    # tend to be garbage\n",
        "    y_pred = y_pred[:, 2:, :]\n",
        "    return K.ctc_batch_cost(labels, y_pred, input_length, label_length)"
      ],
      "execution_count": 83,
      "outputs": []
    },
    {
      "cell_type": "code",
      "metadata": {
        "id": "NlWWXVnNOoNI"
      },
      "source": [
        "labels = Input(name='gtruth_labels', shape=[max_str_len], dtype='float32')\n",
        "input_length = Input(name='input_length', shape=[1], dtype='int64')\n",
        "label_length = Input(name='label_length', shape=[1], dtype='int64')\n",
        "\n",
        "ctc_loss = Lambda(ctc_lambda_func, output_shape=(1,), name='ctc')([y_pred, labels, input_length, label_length])\n",
        "model_final = Model(inputs=[input_data, labels, input_length, label_length], outputs=ctc_loss)"
      ],
      "execution_count": 84,
      "outputs": []
    },
    {
      "cell_type": "code",
      "metadata": {
        "colab": {
          "base_uri": "https://localhost:8080/"
        },
        "id": "DKBWSAILOqJS",
        "outputId": "f7ce4517-2db6-467c-f6b1-089997885ce4"
      },
      "source": [
        "model_final.compile(loss={'ctc': lambda y_true, y_pred: y_pred}, optimizer=Adam(lr = 0.0001))\n",
        "\n",
        "model_final.fit(x=[train_x, train_y, train_input_len, train_label_len], y=train_output, \n",
        "                validation_data=([valid_x, valid_y, valid_input_len, valid_label_len], valid_output),\n",
        "                epochs=70, batch_size=128)"
      ],
      "execution_count": 85,
      "outputs": [
        {
          "output_type": "stream",
          "text": [
            "Epoch 1/70\n",
            "235/235 [==============================] - 45s 194ms/step - loss: 24.0763 - val_loss: 20.9426\n",
            "Epoch 2/70\n",
            "235/235 [==============================] - 44s 186ms/step - loss: 20.1260 - val_loss: 20.0601\n",
            "Epoch 3/70\n",
            "235/235 [==============================] - 44s 185ms/step - loss: 19.7845 - val_loss: 19.7007\n",
            "Epoch 4/70\n",
            "235/235 [==============================] - 43s 184ms/step - loss: 19.3192 - val_loss: 18.9538\n",
            "Epoch 5/70\n",
            "235/235 [==============================] - 43s 185ms/step - loss: 18.2343 - val_loss: 17.5064\n",
            "Epoch 6/70\n",
            "235/235 [==============================] - 43s 184ms/step - loss: 16.5633 - val_loss: 15.9502\n",
            "Epoch 7/70\n",
            "235/235 [==============================] - 44s 185ms/step - loss: 14.4815 - val_loss: 13.3865\n",
            "Epoch 8/70\n",
            "235/235 [==============================] - 43s 184ms/step - loss: 12.2910 - val_loss: 11.9563\n",
            "Epoch 9/70\n",
            "235/235 [==============================] - 43s 184ms/step - loss: 10.0836 - val_loss: 15.7962\n",
            "Epoch 10/70\n",
            "235/235 [==============================] - 43s 185ms/step - loss: 7.8695 - val_loss: 15.1457\n",
            "Epoch 11/70\n",
            "235/235 [==============================] - 43s 184ms/step - loss: 6.4506 - val_loss: 13.6862\n",
            "Epoch 12/70\n",
            "235/235 [==============================] - 43s 184ms/step - loss: 5.5895 - val_loss: 10.8156\n",
            "Epoch 13/70\n",
            "235/235 [==============================] - 43s 183ms/step - loss: 4.9983 - val_loss: 9.5231\n",
            "Epoch 14/70\n",
            "235/235 [==============================] - 43s 183ms/step - loss: 4.5500 - val_loss: 7.2642\n",
            "Epoch 15/70\n",
            "235/235 [==============================] - 43s 183ms/step - loss: 4.1816 - val_loss: 7.8203\n",
            "Epoch 16/70\n",
            "235/235 [==============================] - 43s 184ms/step - loss: 3.9041 - val_loss: 4.6940\n",
            "Epoch 17/70\n",
            "235/235 [==============================] - 43s 183ms/step - loss: 3.6643 - val_loss: 4.6109\n",
            "Epoch 18/70\n",
            "235/235 [==============================] - 43s 184ms/step - loss: 3.4631 - val_loss: 3.7327\n",
            "Epoch 19/70\n",
            "235/235 [==============================] - 43s 183ms/step - loss: 3.2815 - val_loss: 3.1239\n",
            "Epoch 20/70\n",
            "235/235 [==============================] - 43s 182ms/step - loss: 3.1306 - val_loss: 4.5104\n",
            "Epoch 21/70\n",
            "235/235 [==============================] - 43s 183ms/step - loss: 3.0016 - val_loss: 2.9987\n",
            "Epoch 22/70\n",
            "235/235 [==============================] - 43s 182ms/step - loss: 2.8634 - val_loss: 2.7207\n",
            "Epoch 23/70\n",
            "235/235 [==============================] - 43s 183ms/step - loss: 2.7572 - val_loss: 2.6799\n",
            "Epoch 24/70\n",
            "235/235 [==============================] - 43s 183ms/step - loss: 2.6684 - val_loss: 2.6434\n",
            "Epoch 25/70\n",
            "235/235 [==============================] - 43s 183ms/step - loss: 2.5688 - val_loss: 2.5048\n",
            "Epoch 26/70\n",
            "235/235 [==============================] - 43s 182ms/step - loss: 2.4881 - val_loss: 3.1461\n",
            "Epoch 27/70\n",
            "235/235 [==============================] - 43s 183ms/step - loss: 2.4126 - val_loss: 2.5489\n",
            "Epoch 28/70\n",
            "235/235 [==============================] - 43s 183ms/step - loss: 2.3537 - val_loss: 2.3361\n",
            "Epoch 29/70\n",
            "235/235 [==============================] - 43s 183ms/step - loss: 2.2899 - val_loss: 2.3598\n",
            "Epoch 30/70\n",
            "235/235 [==============================] - 43s 183ms/step - loss: 2.2060 - val_loss: 2.2679\n",
            "Epoch 31/70\n",
            "235/235 [==============================] - 43s 183ms/step - loss: 2.1510 - val_loss: 2.2241\n",
            "Epoch 32/70\n",
            "235/235 [==============================] - 43s 183ms/step - loss: 2.1090 - val_loss: 2.2149\n",
            "Epoch 33/70\n",
            "235/235 [==============================] - 43s 184ms/step - loss: 2.0486 - val_loss: 2.2208\n",
            "Epoch 34/70\n",
            "235/235 [==============================] - 43s 183ms/step - loss: 2.0034 - val_loss: 2.1586\n",
            "Epoch 35/70\n",
            "235/235 [==============================] - 43s 183ms/step - loss: 1.9499 - val_loss: 2.2133\n",
            "Epoch 36/70\n",
            "235/235 [==============================] - 43s 183ms/step - loss: 1.9162 - val_loss: 2.1451\n",
            "Epoch 37/70\n",
            "235/235 [==============================] - 43s 183ms/step - loss: 1.8699 - val_loss: 2.1231\n",
            "Epoch 38/70\n",
            "235/235 [==============================] - 43s 183ms/step - loss: 1.8239 - val_loss: 2.1585\n",
            "Epoch 39/70\n",
            "235/235 [==============================] - 43s 182ms/step - loss: 1.7885 - val_loss: 2.0996\n",
            "Epoch 40/70\n",
            "235/235 [==============================] - 43s 182ms/step - loss: 1.7544 - val_loss: 2.1062\n",
            "Epoch 41/70\n",
            "235/235 [==============================] - 43s 182ms/step - loss: 1.7054 - val_loss: 2.0503\n",
            "Epoch 42/70\n",
            "235/235 [==============================] - 43s 183ms/step - loss: 1.6772 - val_loss: 2.0572\n",
            "Epoch 43/70\n",
            "235/235 [==============================] - 43s 182ms/step - loss: 1.6404 - val_loss: 2.0355\n",
            "Epoch 44/70\n",
            "235/235 [==============================] - 43s 182ms/step - loss: 1.6033 - val_loss: 2.0832\n",
            "Epoch 45/70\n",
            "235/235 [==============================] - 43s 183ms/step - loss: 1.5654 - val_loss: 2.0961\n",
            "Epoch 46/70\n",
            "235/235 [==============================] - 43s 183ms/step - loss: 1.5369 - val_loss: 2.0768\n",
            "Epoch 47/70\n",
            "235/235 [==============================] - 43s 182ms/step - loss: 1.5127 - val_loss: 2.0069\n",
            "Epoch 48/70\n",
            "235/235 [==============================] - 43s 183ms/step - loss: 1.4890 - val_loss: 2.0288\n",
            "Epoch 49/70\n",
            "235/235 [==============================] - 43s 183ms/step - loss: 1.4501 - val_loss: 2.0534\n",
            "Epoch 50/70\n",
            "235/235 [==============================] - 43s 183ms/step - loss: 1.4154 - val_loss: 2.0808\n",
            "Epoch 51/70\n",
            "235/235 [==============================] - 43s 182ms/step - loss: 1.3862 - val_loss: 2.0176\n",
            "Epoch 52/70\n",
            "235/235 [==============================] - 43s 183ms/step - loss: 1.3485 - val_loss: 2.0422\n",
            "Epoch 53/70\n",
            "235/235 [==============================] - 43s 183ms/step - loss: 1.3340 - val_loss: 2.0282\n",
            "Epoch 54/70\n",
            "235/235 [==============================] - 43s 182ms/step - loss: 1.3024 - val_loss: 2.0652\n",
            "Epoch 55/70\n",
            "235/235 [==============================] - 43s 182ms/step - loss: 1.2760 - val_loss: 2.0388\n",
            "Epoch 56/70\n",
            "235/235 [==============================] - 43s 182ms/step - loss: 1.2425 - val_loss: 2.0429\n",
            "Epoch 57/70\n",
            "235/235 [==============================] - 43s 182ms/step - loss: 1.2242 - val_loss: 2.0394\n",
            "Epoch 58/70\n",
            "235/235 [==============================] - 43s 183ms/step - loss: 1.2056 - val_loss: 2.1140\n",
            "Epoch 59/70\n",
            "235/235 [==============================] - 43s 183ms/step - loss: 1.1659 - val_loss: 2.0309\n",
            "Epoch 60/70\n",
            "235/235 [==============================] - 43s 183ms/step - loss: 1.1403 - val_loss: 2.0603\n",
            "Epoch 61/70\n",
            "235/235 [==============================] - 43s 182ms/step - loss: 1.1144 - val_loss: 2.0506\n",
            "Epoch 62/70\n",
            "235/235 [==============================] - 43s 182ms/step - loss: 1.0912 - val_loss: 2.0912\n",
            "Epoch 63/70\n",
            "235/235 [==============================] - 43s 182ms/step - loss: 1.0734 - val_loss: 2.0893\n",
            "Epoch 64/70\n",
            "235/235 [==============================] - 43s 182ms/step - loss: 1.0403 - val_loss: 2.1024\n",
            "Epoch 65/70\n",
            "235/235 [==============================] - 43s 182ms/step - loss: 1.0146 - val_loss: 2.1086\n",
            "Epoch 66/70\n",
            "235/235 [==============================] - 43s 182ms/step - loss: 0.9977 - val_loss: 2.1401\n",
            "Epoch 67/70\n",
            "235/235 [==============================] - 43s 182ms/step - loss: 0.9763 - val_loss: 2.1264\n",
            "Epoch 68/70\n",
            "235/235 [==============================] - 43s 182ms/step - loss: 0.9628 - val_loss: 2.0978\n",
            "Epoch 69/70\n",
            "235/235 [==============================] - 43s 182ms/step - loss: 0.9368 - val_loss: 2.0786\n",
            "Epoch 70/70\n",
            "235/235 [==============================] - 43s 183ms/step - loss: 0.9075 - val_loss: 2.1258\n"
          ],
          "name": "stdout"
        },
        {
          "output_type": "execute_result",
          "data": {
            "text/plain": [
              "<tensorflow.python.keras.callbacks.History at 0x7f7be0f70dd8>"
            ]
          },
          "metadata": {
            "tags": []
          },
          "execution_count": 85
        }
      ]
    },
    {
      "cell_type": "code",
      "metadata": {
        "id": "aNUbbRuCOs65"
      },
      "source": [
        "preds = model.predict(valid_x)\n",
        "decoded = K.get_value(K.ctc_decode(preds, input_length=np.ones(preds.shape[0])*preds.shape[1], \n",
        "                                   greedy=True)[0][0])\n",
        "\n",
        "prediction = []\n",
        "for i in range(valid_size):\n",
        "    prediction.append(num_to_label(decoded[i]))"
      ],
      "execution_count": 86,
      "outputs": []
    },
    {
      "cell_type": "code",
      "metadata": {
        "colab": {
          "base_uri": "https://localhost:8080/"
        },
        "id": "rrt8Gp00Zy27",
        "outputId": "080ef94b-b1bd-46b9-ebe2-584d68376329"
      },
      "source": [
        "y_true = valid.loc[0:valid_size, 'IDENTITY']\n",
        "correct_char = 0\n",
        "total_char = 0\n",
        "correct = 0\n",
        "\n",
        "for i in range(valid_size):\n",
        "    pr = prediction[i]\n",
        "    tr = y_true[i]\n",
        "    total_char += len(tr)\n",
        "    \n",
        "    for j in range(min(len(tr), len(pr))):\n",
        "        if tr[j] == pr[j]:\n",
        "            correct_char += 1\n",
        "            \n",
        "    if pr == tr :\n",
        "        correct += 1 \n",
        "    \n",
        "print('Correct characters predicted : %.2f%%' %(correct_char*100/total_char))\n",
        "print('Correct words predicted      : %.2f%%' %(correct*100/valid_size))"
      ],
      "execution_count": 87,
      "outputs": [
        {
          "output_type": "stream",
          "text": [
            "Correct characters predicted : 88.60%\n",
            "Correct words predicted      : 74.90%\n"
          ],
          "name": "stdout"
        }
      ]
    },
    {
      "cell_type": "code",
      "metadata": {
        "colab": {
          "base_uri": "https://localhost:8080/",
          "height": 171
        },
        "id": "2BUscdriZ3eD",
        "outputId": "ec424078-80c1-4772-ffc7-e9365c6161a4"
      },
      "source": [
        "test = pd.read_csv('/content/written_name_test_v2.csv')\n",
        "\n",
        "plt.figure(figsize=(15, 10))\n",
        "for i in range(6):\n",
        "    ax = plt.subplot(2, 3, i+1)\n",
        "    img_dir = '/content/test_v2/test/'+test.loc[i, 'FILENAME']\n",
        "    image = cv2.imread(img_dir, cv2.IMREAD_GRAYSCALE)\n",
        "    plt.imshow(image, cmap='gray')\n",
        "    \n",
        "    image = preprocess(image)\n",
        "    image = image/255.\n",
        "    pred = model.predict(image.reshape(1, 256, 64, 1))\n",
        "    decoded = K.get_value(K.ctc_decode(pred, input_length=np.ones(pred.shape[0])*pred.shape[1], \n",
        "                                       greedy=True)[0][0])\n",
        "    plt.title(num_to_label(decoded[0]), fontsize=12)\n",
        "    plt.axis('off')\n",
        "    \n",
        "plt.subplots_adjust(wspace=0.2, hspace=-0.8)"
      ],
      "execution_count": 89,
      "outputs": [
        {
          "output_type": "display_data",
          "data": {
            "image/png": "[encoded data removed]",
            "text/plain": [
              "<Figure size 1080x720 with 6 Axes>"
            ]
          },
          "metadata": {
            "tags": [],
            "needs_background": "light"
          }
        }
      ]
    },
    {
      "cell_type": "code",
      "metadata": {
        "id": "35AURDLxZ7nN"
      },
      "source": [
        ""
      ],
      "execution_count": null,
      "outputs": []
    }
  ]
}